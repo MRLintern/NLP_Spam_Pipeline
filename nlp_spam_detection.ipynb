{
 "cells": [
  {
   "cell_type": "code",
   "execution_count": 1,
   "id": "5ef88827",
   "metadata": {},
   "outputs": [],
   "source": [
    "#start spark outside of its home directory\n",
    "\n",
    "import findspark"
   ]
  },
  {
   "cell_type": "code",
   "execution_count": 2,
   "id": "02c27c38",
   "metadata": {},
   "outputs": [],
   "source": [
    "#place your path to Spark: findspark.init('PATH-TO-SPARK-FOLDER')\n",
    "\n",
    "findspark.init('/home/user/spark-3.3.0-bin-hadoop3')"
   ]
  },
  {
   "cell_type": "code",
   "execution_count": 3,
   "id": "cbd07bb1",
   "metadata": {},
   "outputs": [],
   "source": [
    "import pyspark"
   ]
  },
  {
   "cell_type": "code",
   "execution_count": 6,
   "id": "a8cd0fef",
   "metadata": {},
   "outputs": [],
   "source": [
    "#create spark session and give name the app.\n",
    "\n",
    "from pyspark.sql import SparkSession"
   ]
  },
  {
   "cell_type": "code",
   "execution_count": 7,
   "id": "eead8ca3",
   "metadata": {},
   "outputs": [
    {
     "name": "stdout",
     "output_type": "stream",
     "text": [
      "22/11/01 17:05:50 WARN Utils: Your hostname, linux-laptop resolves to a loopback address: 127.0.1.1; using 192.168.1.146 instead (on interface wlp54s0)\n",
      "22/11/01 17:05:50 WARN Utils: Set SPARK_LOCAL_IP if you need to bind to another address\n"
     ]
    },
    {
     "name": "stderr",
     "output_type": "stream",
     "text": [
      "Setting default log level to \"WARN\".\n",
      "To adjust logging level use sc.setLogLevel(newLevel). For SparkR, use setLogLevel(newLevel).\n"
     ]
    },
    {
     "name": "stdout",
     "output_type": "stream",
     "text": [
      "22/11/01 17:05:51 WARN NativeCodeLoader: Unable to load native-hadoop library for your platform... using builtin-java classes where applicable\n",
      "22/11/01 17:05:51 WARN Utils: Service 'SparkUI' could not bind on port 4040. Attempting port 4041.\n"
     ]
    }
   ],
   "source": [
    "spark = SparkSession.builder.appName('NLP').getOrCreate()"
   ]
  },
  {
   "cell_type": "code",
   "execution_count": 8,
   "id": "9af3e5b6",
   "metadata": {},
   "outputs": [],
   "source": [
    "#import the data \n",
    "\n",
    "data = spark.read.csv(\"SMSSpamCollection\",inferSchema=True,sep='\\t')"
   ]
  },
  {
   "cell_type": "code",
   "execution_count": 9,
   "id": "68e567dd",
   "metadata": {},
   "outputs": [],
   "source": [
    "#data column titles in CSV file is meaningless; give names: class and text respectively\n",
    "\n",
    "data = data.withColumnRenamed('_c0','class').withColumnRenamed('_c1','text')"
   ]
  },
  {
   "cell_type": "code",
   "execution_count": 10,
   "id": "12a29bd0",
   "metadata": {},
   "outputs": [
    {
     "name": "stdout",
     "output_type": "stream",
     "text": [
      "+-----+--------------------+\n",
      "|class|                text|\n",
      "+-----+--------------------+\n",
      "|  ham|Go until jurong p...|\n",
      "|  ham|Ok lar... Joking ...|\n",
      "| spam|Free entry in 2 a...|\n",
      "|  ham|U dun say so earl...|\n",
      "|  ham|Nah I don't think...|\n",
      "| spam|FreeMsg Hey there...|\n",
      "|  ham|Even my brother i...|\n",
      "|  ham|As per your reque...|\n",
      "| spam|WINNER!! As a val...|\n",
      "| spam|Had your mobile 1...|\n",
      "|  ham|I'm gonna be home...|\n",
      "| spam|SIX chances to wi...|\n",
      "| spam|URGENT! You have ...|\n",
      "|  ham|I've been searchi...|\n",
      "|  ham|I HAVE A DATE ON ...|\n",
      "| spam|XXXMobileMovieClu...|\n",
      "|  ham|Oh k...i'm watchi...|\n",
      "|  ham|Eh u remember how...|\n",
      "|  ham|Fine if thats th...|\n",
      "| spam|England v Macedon...|\n",
      "+-----+--------------------+\n",
      "only showing top 20 rows\n",
      "\n"
     ]
    }
   ],
   "source": [
    "data.show()"
   ]
  },
  {
   "cell_type": "code",
   "execution_count": 11,
   "id": "6ba663b5",
   "metadata": {},
   "outputs": [],
   "source": [
    "#Clean and Prepare the Data\n",
    "\n",
    "#make use of the length function found in Spark to get size of ham/spam messages\n",
    "\n",
    "from pyspark.sql.functions import length\n",
    "\n",
    "data = data.withColumn('length',length(data['text']))"
   ]
  },
  {
   "cell_type": "code",
   "execution_count": 12,
   "id": "dc1d5a11",
   "metadata": {},
   "outputs": [
    {
     "name": "stdout",
     "output_type": "stream",
     "text": [
      "+-----+--------------------+------+\n",
      "|class|                text|length|\n",
      "+-----+--------------------+------+\n",
      "|  ham|Go until jurong p...|   111|\n",
      "|  ham|Ok lar... Joking ...|    29|\n",
      "| spam|Free entry in 2 a...|   155|\n",
      "|  ham|U dun say so earl...|    49|\n",
      "|  ham|Nah I don't think...|    61|\n",
      "| spam|FreeMsg Hey there...|   147|\n",
      "|  ham|Even my brother i...|    77|\n",
      "|  ham|As per your reque...|   160|\n",
      "| spam|WINNER!! As a val...|   157|\n",
      "| spam|Had your mobile 1...|   154|\n",
      "|  ham|I'm gonna be home...|   109|\n",
      "| spam|SIX chances to wi...|   136|\n",
      "| spam|URGENT! You have ...|   155|\n",
      "|  ham|I've been searchi...|   196|\n",
      "|  ham|I HAVE A DATE ON ...|    35|\n",
      "| spam|XXXMobileMovieClu...|   149|\n",
      "|  ham|Oh k...i'm watchi...|    26|\n",
      "|  ham|Eh u remember how...|    81|\n",
      "|  ham|Fine if thats th...|    56|\n",
      "| spam|England v Macedon...|   155|\n",
      "+-----+--------------------+------+\n",
      "only showing top 20 rows\n",
      "\n"
     ]
    }
   ],
   "source": [
    "data.show()"
   ]
  },
  {
   "cell_type": "code",
   "execution_count": 13,
   "id": "06160ce6",
   "metadata": {},
   "outputs": [
    {
     "name": "stdout",
     "output_type": "stream",
     "text": [
      "+-----+-----------------+\n",
      "|class|      avg(length)|\n",
      "+-----+-----------------+\n",
      "|  ham|71.45431945307645|\n",
      "| spam|138.6706827309237|\n",
      "+-----+-----------------+\n",
      "\n"
     ]
    }
   ],
   "source": [
    "#perform some statistics; e.g. mean; see what the average length of a ham vs spam message is\n",
    "\n",
    "data.groupby('class').mean().show()"
   ]
  },
  {
   "cell_type": "code",
   "execution_count": 14,
   "id": "ec2d84d5",
   "metadata": {},
   "outputs": [],
   "source": [
    "#ML/NLP section inc feature engineering\n",
    "\n",
    "#feature tools\n",
    "\n",
    "from pyspark.ml.feature import Tokenizer,StopWordsRemover, CountVectorizer,IDF,StringIndexer\n",
    "\n",
    "tokenizer = Tokenizer(inputCol=\"text\", outputCol=\"token_text\")\n",
    "stopremove = StopWordsRemover(inputCol='token_text',outputCol='stop_tokens')\n",
    "count_vec = CountVectorizer(inputCol='stop_tokens',outputCol='c_vec')\n",
    "idf = IDF(inputCol=\"c_vec\", outputCol=\"tf_idf\")\n",
    "ham_spam_to_num = StringIndexer(inputCol='class',outputCol='label')\n",
    "\n",
    "from pyspark.ml.feature import VectorAssembler\n",
    "from pyspark.ml.linalg import Vector\n",
    "\n",
    "clean_up = VectorAssembler(inputCols=['tf_idf','length'],outputCol='features')"
   ]
  },
  {
   "cell_type": "code",
   "execution_count": 15,
   "id": "ac445793",
   "metadata": {},
   "outputs": [],
   "source": [
    "#classification model creation; Naive Bayes; others to look at: log. regress, random forests\n",
    "\n",
    "from pyspark.ml.classification import NaiveBayes\n",
    "\n",
    "nb = NaiveBayes()\n",
    "\n",
    "#create pipeline\n",
    "\n",
    "from pyspark.ml import Pipeline\n",
    "\n",
    "data_prep_pipe = Pipeline(stages=[ham_spam_to_num,tokenizer,stopremove,count_vec,idf,clean_up])"
   ]
  },
  {
   "cell_type": "code",
   "execution_count": 16,
   "id": "4b3e70ce",
   "metadata": {},
   "outputs": [],
   "source": [
    "#clean data\n",
    "\n",
    "cleaner = data_prep_pipe.fit(data)\n",
    "\n",
    "clean_data = cleaner.transform(data)"
   ]
  },
  {
   "cell_type": "code",
   "execution_count": 17,
   "id": "18271147",
   "metadata": {},
   "outputs": [
    {
     "name": "stdout",
     "output_type": "stream",
     "text": [
      "+-----+--------------------+\n",
      "|label|            features|\n",
      "+-----+--------------------+\n",
      "|  0.0|(13424,[7,11,31,6...|\n",
      "|  0.0|(13424,[0,24,297,...|\n",
      "|  1.0|(13424,[2,13,19,3...|\n",
      "|  0.0|(13424,[0,70,80,1...|\n",
      "|  0.0|(13424,[36,134,31...|\n",
      "|  1.0|(13424,[10,60,139...|\n",
      "|  0.0|(13424,[10,53,103...|\n",
      "|  0.0|(13424,[125,184,4...|\n",
      "|  1.0|(13424,[1,47,118,...|\n",
      "|  1.0|(13424,[0,1,13,27...|\n",
      "|  0.0|(13424,[18,43,120...|\n",
      "|  1.0|(13424,[8,17,37,8...|\n",
      "|  1.0|(13424,[13,30,47,...|\n",
      "|  0.0|(13424,[39,96,217...|\n",
      "|  0.0|(13424,[552,1697,...|\n",
      "|  1.0|(13424,[30,109,11...|\n",
      "|  0.0|(13424,[82,214,47...|\n",
      "|  0.0|(13424,[0,2,49,13...|\n",
      "|  0.0|(13424,[0,74,105,...|\n",
      "|  1.0|(13424,[4,30,33,5...|\n",
      "+-----+--------------------+\n",
      "only showing top 20 rows\n",
      "\n"
     ]
    }
   ],
   "source": [
    "#start model evaluation\n",
    "\n",
    "clean_data = clean_data.select(['label','features'])\n",
    "\n",
    "clean_data.show()"
   ]
  },
  {
   "cell_type": "code",
   "execution_count": 18,
   "id": "07ebc479",
   "metadata": {},
   "outputs": [
    {
     "name": "stdout",
     "output_type": "stream",
     "text": [
      "22/11/01 17:09:45 WARN DAGScheduler: Broadcasting large task binary with size 1144.3 KiB\n",
      "22/11/01 17:09:45 WARN DAGScheduler: Broadcasting large task binary with size 1134.0 KiB\n"
     ]
    }
   ],
   "source": [
    "#split data into training and test sets\n",
    "\n",
    "(training,testing) = clean_data.randomSplit([0.7,0.3])\n",
    "\n",
    "spam_predictor = nb.fit(training)"
   ]
  },
  {
   "cell_type": "code",
   "execution_count": 19,
   "id": "4af1bf17",
   "metadata": {},
   "outputs": [
    {
     "name": "stdout",
     "output_type": "stream",
     "text": [
      "22/11/01 17:10:03 WARN DAGScheduler: Broadcasting large task binary with size 1366.6 KiB\n",
      "+-----+--------------------+--------------------+--------------------+----------+\n",
      "|label|            features|       rawPrediction|         probability|prediction|\n",
      "+-----+--------------------+--------------------+--------------------+----------+\n",
      "|  0.0|(13424,[0,1,3,9,1...|[-577.00395777797...|[1.0,4.3276712838...|       0.0|\n",
      "|  0.0|(13424,[0,1,4,50,...|[-843.83845668000...|[1.0,3.1117370305...|       0.0|\n",
      "|  0.0|(13424,[0,1,7,8,1...|[-886.79859591763...|[1.0,1.0481635956...|       0.0|\n",
      "|  0.0|(13424,[0,1,7,8,1...|[-1186.3404580527...|[1.0,1.6890386781...|       0.0|\n",
      "|  0.0|(13424,[0,1,9,14,...|[-536.74347994386...|[1.0,2.6219772119...|       0.0|\n",
      "|  0.0|(13424,[0,1,12,33...|[-445.40865922441...|[1.0,3.1286639549...|       0.0|\n",
      "|  0.0|(13424,[0,1,17,19...|[-805.62714222344...|[1.0,8.7842856299...|       0.0|\n",
      "|  0.0|(13424,[0,1,18,20...|[-837.57234987852...|[1.0,8.4843351921...|       0.0|\n",
      "|  0.0|(13424,[0,1,21,27...|[-991.35583025121...|[1.0,7.2855706233...|       0.0|\n",
      "|  0.0|(13424,[0,1,31,43...|[-340.41438007900...|[1.0,3.9244779599...|       0.0|\n",
      "|  0.0|(13424,[0,1,874,1...|[-97.040424759065...|[0.99999999162640...|       0.0|\n",
      "|  0.0|(13424,[0,2,3,6,9...|[-3399.4842975596...|[1.0,2.0019533405...|       0.0|\n",
      "|  0.0|(13424,[0,2,3,6,9...|[-3399.4842975596...|[1.0,2.0019533405...|       0.0|\n",
      "|  0.0|(13424,[0,2,4,8,2...|[-1422.3194785371...|[1.0,1.7039799600...|       0.0|\n",
      "|  0.0|(13424,[0,2,4,8,2...|[-576.64430312882...|[0.99999999999999...|       0.0|\n",
      "|  0.0|(13424,[0,2,4,10,...|[-1215.0784813144...|[1.0,3.6526965113...|       0.0|\n",
      "|  0.0|(13424,[0,2,4,11,...|[-1125.0595670705...|[1.0,5.0533188241...|       0.0|\n",
      "|  0.0|(13424,[0,2,4,128...|[-642.14174280864...|[1.0,1.2441909457...|       0.0|\n",
      "|  0.0|(13424,[0,2,7,11,...|[-1331.3925869215...|[1.0,1.5535632241...|       0.0|\n",
      "|  0.0|(13424,[0,2,8,12,...|[-1321.1206308322...|[1.0,4.6030000646...|       0.0|\n",
      "+-----+--------------------+--------------------+--------------------+----------+\n",
      "only showing top 20 rows\n",
      "\n"
     ]
    }
   ],
   "source": [
    "#create some test results\n",
    "\n",
    "test_results = spam_predictor.transform(testing)\n",
    "\n",
    "test_results.show()"
   ]
  },
  {
   "cell_type": "code",
   "execution_count": 21,
   "id": "990e7e7d",
   "metadata": {},
   "outputs": [
    {
     "name": "stdout",
     "output_type": "stream",
     "text": [
      "22/11/01 17:14:33 WARN DAGScheduler: Broadcasting large task binary with size 1371.1 KiB\n",
      "Accuracy of Model at Predicting Spam Messages was 0.9240702382171649\n"
     ]
    }
   ],
   "source": [
    "#compare label vs. prediction; looking at accuracy (acc)\n",
    "\n",
    "from pyspark.ml.evaluation import MulticlassClassificationEvaluator\n",
    "\n",
    "acc_eval = MulticlassClassificationEvaluator()\n",
    "acc = acc_eval.evaluate(test_results)\n",
    "\n",
    "print(f\"Accuracy of Model at Predicting Spam Messages was {acc}\")"
   ]
  },
  {
   "cell_type": "code",
   "execution_count": null,
   "id": "816b308f",
   "metadata": {},
   "outputs": [],
   "source": []
  }
 ],
 "metadata": {
  "kernelspec": {
   "display_name": "Python 3 (ipykernel)",
   "language": "python",
   "name": "python3"
  },
  "language_info": {
   "codemirror_mode": {
    "name": "ipython",
    "version": 3
   },
   "file_extension": ".py",
   "mimetype": "text/x-python",
   "name": "python",
   "nbconvert_exporter": "python",
   "pygments_lexer": "ipython3",
   "version": "3.8.10"
  }
 },
 "nbformat": 4,
 "nbformat_minor": 5
}
